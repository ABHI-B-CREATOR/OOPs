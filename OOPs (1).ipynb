{
 "cells": [
  {
   "cell_type": "markdown",
   "id": "a9c47dd0-8519-4373-9d60-bfbb856e8eca",
   "metadata": {},
   "source": [
    "Question-1 What is Object-Oriented Programming (OOP)?\n",
    "\n",
    "- Object-Oriented Programming (OOPs) helps you to arrange the requried functions in respectives classes. In OOPs, objects are created from templates called \"classes\", which define the properties and behavior of the objects they create."
   ]
  },
  {
   "cell_type": "markdown",
   "id": "4f97ffad-f9f5-4a81-9e30-c4d22b9ab363",
   "metadata": {},
   "source": [
    "Question-2 What is a class in OOP?\n",
    "\n",
    "- Classes are blueprint/templates for creating a objects."
   ]
  },
  {
   "cell_type": "markdown",
   "id": "bf373beb-9c4c-4597-bcc2-744e7b1afa3f",
   "metadata": {},
   "source": [
    "Question-3 What is an object in OOP?\n",
    "\n",
    "- Object are nothing but the copy of the original class/templates is known as Objects."
   ]
  },
  {
   "cell_type": "markdown",
   "id": "8b2ac4a3-eac8-404c-8eef-5f32d9de5875",
   "metadata": {},
   "source": [
    "Question-4 What is the difference between abstraction and encapsulation?\n",
    "\n",
    "- The major key differnce between abstraction and encapulation is , abstraction concept is to hiding the complex implementation and exposing the requried functionality while on other hand , encapsulation means hiding something or bundling of data and method of class and restricting some components using access modifiers."
   ]
  },
  {
   "cell_type": "markdown",
   "id": "a312cd66-8eac-4955-b22d-96438584d305",
   "metadata": {},
   "source": [
    "Question-5 What are dunder methods in Python?\n",
    "- Dunder method also known as magic method or special method.\n",
    "\n",
    "- Dunder method are the method defined by built-in classes in python.\n",
    "\n",
    "- Methods surroundings double underscore is a dunder method."
   ]
  },
  {
   "cell_type": "markdown",
   "id": "0b173b89-52c6-4220-811d-248dcf2435be",
   "metadata": {},
   "source": [
    "Question-6 Explain the concept of inheritance in OOP?\n",
    "\n",
    "- The concept of inheritance refers to the process where child class recieving the properties of parent class."
   ]
  },
  {
   "cell_type": "markdown",
   "id": "6908ec13-53d4-4c97-bac2-7e9c4b358765",
   "metadata": {},
   "source": [
    "Question-7 What is polymorphism in OOP?\n",
    "\n",
    "- Polymorphsim refers to an object taking several forms depending on the methods/states.\n"
   ]
  },
  {
   "cell_type": "markdown",
   "id": "22039242-901e-444e-b045-8f4ca750b151",
   "metadata": {},
   "source": [
    "Question-8 How is encapsulation achieved in Python?\n",
    "\n",
    "- Encapsulation in Python is achieved through the use of classes, access modifiers, and methods to control how data (attributes) is accessed and modified."
   ]
  },
  {
   "cell_type": "markdown",
   "id": "b0423e06-8285-4653-bd21-72b7c7964581",
   "metadata": {},
   "source": [
    "Question-9 What is a constructor in Python?\n",
    "\n",
    "- A constructor in Python is a special method used to initialize an object when it is created from a class. In Python, the constructor method is named __init__. It is automatically invoked when a new instance of the class is created."
   ]
  },
  {
   "cell_type": "markdown",
   "id": "e2168062-3360-4bf2-9fc3-e7d291f01507",
   "metadata": {},
   "source": [
    "Question-10 What are class and static methods in Python?\n",
    "\n",
    "- Class method are method which bound to the class, it can access/modify methods and attributes associated to the class across all the instances.\n",
    "\n",
    "- Static method behaves like a plain function that belong to the class. It dosen't take either self or cls."
   ]
  },
  {
   "cell_type": "markdown",
   "id": "fbb56627-2ea2-46cf-a622-d314f5a991eb",
   "metadata": {},
   "source": [
    "Question-11 What is method overloading in Python?\n",
    "\n",
    "- Method overloading allows a class to define multiple methods with the same name but with different parameters.It provides a way to implement polymorphism, enabling a single method name to handle different types or numbers of arguments."
   ]
  },
  {
   "cell_type": "markdown",
   "id": "76d47f88-1c72-4a89-9970-257d2361aa79",
   "metadata": {},
   "source": [
    "Question-12 What is method overriding in OOP?\n",
    "\n",
    "- Method overriding occurs in object-oriented programming (OOP) when a child class provides a specific implementation of a method that is already defined in its parent class. The overridden method in the child class has the same name, return type, and parameters as the method in the parent class."
   ]
  },
  {
   "cell_type": "markdown",
   "id": "9ed55454-9979-4ece-9af0-5641df8ca31a",
   "metadata": {},
   "source": [
    "Question-13 What is a property decorator in Python?\n",
    "\n",
    "- Property decorators allows method to be accessed as attribute, providing controlled access to private or computed properties."
   ]
  },
  {
   "cell_type": "markdown",
   "id": "697842db-6264-4b17-acc5-f9a54d64540b",
   "metadata": {},
   "source": [
    "Question-14 Why is polymorphism important in OOP?\n",
    "\n",
    "- Polymorphism is one of the core principles of object-oriented programming (OOP). It allows objects of different classes to be treated as objects of a common superclass. This enables the same method or operation to behave differently depending on the type of object it is applied to."
   ]
  },
  {
   "cell_type": "markdown",
   "id": "6e736377-63f6-448d-ad82-325932e0fe75",
   "metadata": {},
   "source": [
    "Question-15 What is an abstract class in Python?\n",
    "\n",
    "- An abstract class in Python is a class that cannot be instantiated directly and is meant to serve as a blueprint for other classes. It can contain abstract methods (methods that must be implemented in derived classes) as well as concrete methods (methods with an implementation).\n",
    " "
   ]
  },
  {
   "cell_type": "markdown",
   "id": "ee955629-420e-48ed-aa59-6fcb00f174f1",
   "metadata": {},
   "source": [
    "Question-16 What are the advantages of OOP?\n",
    "\n",
    "**Modularity and Code Reusability**\n",
    "- Classes and Objects are used to create modular code. Once a class is created, it can be used to create multiple objects, and the methods and attributes of the class can be reused.\n",
    "- Inheritance allows for reusing code by creating new classes based on existing ones, thus avoiding repetition and improving code maintainability.\n",
    "\n",
    "**Abstraction**\n",
    "- Abstraction allows you to hide the complexity of an object and expose only the essential parts of it. It makes the system easier to understand and interact with.\n",
    "\n",
    "**Encapsulation**\n",
    "- Encapsulation ensures that the internal state of an object is hidden and protected from unintended modification.\n",
    "\n",
    "- It promotes data security and controlled access.\n",
    "\n",
    "**Polymorphism**\n",
    "- Polymorphism allows objects of different types to be treated as objects of a common superclass. "
   ]
  },
  {
   "cell_type": "markdown",
   "id": "00891286-91c8-46b2-97e2-d7db66b28c14",
   "metadata": {},
   "source": [
    "Question-17 What is the difference between a class variable and an instance variable?"
   ]
  },
  {
   "cell_type": "code",
   "execution_count": 75,
   "id": "f6fa09ef-6104-481c-9295-91c66256ba0c",
   "metadata": {},
   "outputs": [
    {
     "name": "stdout",
     "output_type": "stream",
     "text": [
      "Feature\t                           Class Variable\t                                   Instance Variable\n",
      "Definition\t        Defined within the class but outside any methods\tDefined within the class but outside any methods\n",
      "shared among objects\tYes, all instances share the same value\t                Yes, all instances share the same value\n",
      "Access\t                Can be accessed via the class or any instance\t        Can only be accessed via an instance\n",
      "Modification Impact\tChanging a class variable changes it for all instances\tChanging an instance variable affects only that instance\n"
     ]
    }
   ],
   "source": [
    "answer_of_the_question = \"Feature\\t                           Class Variable\\t                                   Instance Variable\\nDefinition\\t        Defined within the class but outside any methods\\tDefined within the class but outside any methods\\nshared among objects\\tYes, all instances share the same value\\t                Yes, all instances share the same value\\nAccess\\t                Can be accessed via the class or any instance\\t        Can only be accessed via an instance\\nModification Impact\\tChanging a class variable changes it for all instances\\tChanging an instance variable affects only that instance\"\n",
    "print(answer_of_the_question)"
   ]
  },
  {
   "cell_type": "markdown",
   "id": "a7233426-ca6b-47a7-a330-25dd0d43fa53",
   "metadata": {},
   "source": [
    "Question-18 What is multiple inheritance in Python?\n",
    "\n",
    "- Multiple inheritance refers that one child class may inherit the property of multiple parent class.\n"
   ]
  },
  {
   "cell_type": "markdown",
   "id": "89363074-7e17-4f30-a8a8-16faa62fb7d3",
   "metadata": {},
   "source": [
    "Question-19 Explain the purpose of ‘’__str__’ and ‘__repr__’ ‘ methods in Python?\n",
    "\n",
    "- The __str__ method is used to define a human-readable or user-friendly string representation of an object. This is the string that will be returned when you call str(object) or print the object.\n",
    "\n",
    "- The __repr__ method is used to define a formal or developer-friendly string representation of an object. It is intended to provide a more detailed, unambiguous string that could ideally be used to recreate the object."
   ]
  },
  {
   "cell_type": "markdown",
   "id": "e082393d-86f5-4132-a038-5e0442ae78a7",
   "metadata": {},
   "source": [
    "Question-20 What is the significance of the ‘super()’ function in Python?\n",
    "\n",
    "- The super() function in Python is used to call methods from a parent (super) class. It provides a way to access and invoke methods from a superclass in the context of inheritance. The primary purpose of super() is to call the method of the parent class, allowing for method overriding."
   ]
  },
  {
   "cell_type": "markdown",
   "id": "8fb14b04-8981-4bed-bc44-cbb2fb61cf3b",
   "metadata": {},
   "source": [
    "Question-21 What is the significance of the __del__ method in Python?\n",
    "\n",
    "- The __del__ method in Python is a destructor method that is called when an object is about to be destroyed, typically when it is no longer referenced and is being garbage collected."
   ]
  },
  {
   "cell_type": "markdown",
   "id": "a03e4992-5ba2-45cb-9e8c-9cc441ce4e65",
   "metadata": {},
   "source": [
    "Question-22 What is the difference between @staticmethod and @classmethod in Python?\n"
   ]
  },
  {
   "cell_type": "code",
   "execution_count": 92,
   "id": "dae0704e-5836-4776-a445-9446df8ef518",
   "metadata": {},
   "outputs": [
    {
     "name": "stdout",
     "output_type": "stream",
     "text": [
      "Feature   \t                        Static Method\t                                                     Class Method\n",
      "First Agrument\t         Does not take self or cls as the first argument.\t          Takes cls (the class) as the first argument.\n",
      "Access to Class\t         Does not have access to the class or instance attributes.\t  Has access to the class attributes and can modify them.\n",
      "Usage\t                 For utility methods that don't need class or instance data.\t  For methods that operate on or modify class-level data or are used as alternative constructors.\n",
      "Calling\t                 Can be called on the class or an instance.\t                  Can also be called on the class or an instance.\n"
     ]
    }
   ],
   "source": [
    "ans_of_the_question = \"Feature   \\t                        Static Method\\t                                                     Class Method\\nFirst Agrument\\t         Does not take self or cls as the first argument.\\t          Takes cls (the class) as the first argument.\\nAccess to Class\\t         Does not have access to the class or instance attributes.\\t  Has access to the class attributes and can modify them.\\nUsage\\t                 For utility methods that don't need class or instance data.\\t  For methods that operate on or modify class-level data or are used as alternative constructors.\\nCalling\\t                 Can be called on the class or an instance.\\t                  Can also be called on the class or an instance.\"\n",
    "print(ans_of_the_question)"
   ]
  },
  {
   "cell_type": "markdown",
   "id": "637d638d-8799-45e0-8802-ee30722e023e",
   "metadata": {},
   "source": [
    "Question-23 How does polymorphism work in Python with inheritance?\n",
    "- Polymorphism in Python, particularly when combined with inheritance, allows methods in a base class to be overridden in derived classes. It provides the ability to use a single interface to interact with objects of different classes, leading to more flexible and reusable code."
   ]
  },
  {
   "cell_type": "markdown",
   "id": "a2cd616a-f200-4340-a204-f23acede8cc2",
   "metadata": {},
   "source": [
    "Question-24 What is method chaining in Python OOP?\n",
    "\n",
    "- Method chaining in Python OOP refers to the technique of calling multiple methods on the same object in a single statement. This is achieved by having methods return the object itself (self), allowing subsequent method calls to be linked together in a \"chain.\""
   ]
  },
  {
   "cell_type": "markdown",
   "id": "a8443b54-fb05-47b5-a923-85f57b480d0e",
   "metadata": {},
   "source": [
    "Question-25 What is the purpose of the __call__ method in python?\n",
    "\n",
    "- The __call__ method in Python is a special method that allows an instance of a class to be called as if it were a function. When you define __call__ in a class, it enables objects of that class to behave like callable objects."
   ]
  },
  {
   "cell_type": "markdown",
   "id": "1b51fe0d-7398-4453-a314-f2ccab4554da",
   "metadata": {},
   "source": [
    "# PRACTICAL QUESTIONS #\n"
   ]
  },
  {
   "cell_type": "markdown",
   "id": "c6e55ada-47d2-4b97-b24b-74cbcd9e3c72",
   "metadata": {},
   "source": [
    " Question-1 Create a parent class Animal with a method speak() that prints a generic message. Create a child class Dog that overrides the speak() method to print \"Bark!\"?"
   ]
  },
  {
   "cell_type": "code",
   "execution_count": 32,
   "id": "bf467910-0e48-43eb-a649-b3f342b5cd36",
   "metadata": {},
   "outputs": [],
   "source": [
    "class Animal():\n",
    "    def speak(self):\n",
    "        print(\"hello cute puppy\")\n",
    "        \n",
    "class Dog(Animal):\n",
    "    def speak(self):\n",
    "        print(\"bark\")"
   ]
  },
  {
   "cell_type": "code",
   "execution_count": 33,
   "id": "e38d7fb2-0437-4034-b46c-4a0658b00362",
   "metadata": {},
   "outputs": [
    {
     "name": "stdout",
     "output_type": "stream",
     "text": [
      "bark\n"
     ]
    }
   ],
   "source": [
    "obj = Dog()\n",
    "obj.speak()"
   ]
  },
  {
   "cell_type": "markdown",
   "id": "38c2868b-0690-4f1c-8494-8d592bb6b338",
   "metadata": {},
   "source": [
    "Question-2 Write a program to create an abstract class Shape with a method area(). Derive classes Circle and Rectangle from it and implement the area() method in both?"
   ]
  },
  {
   "cell_type": "code",
   "execution_count": 34,
   "id": "f2f62438-0ed9-4509-994a-716b61e83980",
   "metadata": {},
   "outputs": [
    {
     "data": {
      "text/plain": [
       "'Area of rectange is len*breadth'"
      ]
     },
     "execution_count": 34,
     "metadata": {},
     "output_type": "execute_result"
    }
   ],
   "source": [
    "import abc\n",
    "\n",
    "class Shape:\n",
    "    \n",
    "    @abc.abstractmethod\n",
    "    def calculate_area(self):\n",
    "        pass\n",
    "class Rectangle(Shape):\n",
    "    def calculate_area(self):\n",
    "        return \"Area of rectange is len*breadth\"\n",
    "class Circle(Shape):\n",
    "    def calculate_area(self):\n",
    "        return \"area of circle is pi r **2\"\n",
    "\n",
    "react = Rectangle()\n",
    "react.calculate_area()"
   ]
  },
  {
   "cell_type": "code",
   "execution_count": 35,
   "id": "0c0b58bb-77d8-475d-a453-74427f45e364",
   "metadata": {},
   "outputs": [
    {
     "data": {
      "text/plain": [
       "'area of circle is pi r **2'"
      ]
     },
     "execution_count": 35,
     "metadata": {},
     "output_type": "execute_result"
    }
   ],
   "source": [
    "cir = Circle()\n",
    "cir.calculate_area()"
   ]
  },
  {
   "cell_type": "markdown",
   "id": "b6753d64-83e2-4707-b674-689c036d43b2",
   "metadata": {},
   "source": [
    "Question-3 Implement a multi-level inheritance scenario where a class Vehicle has an attribute type. Derive a class and further derive a class ElectricCar that adds a battery attribute?"
   ]
  },
  {
   "cell_type": "code",
   "execution_count": 36,
   "id": "90cdcc38-4612-42ef-9b54-8075cf19644f",
   "metadata": {},
   "outputs": [
    {
     "name": "stdout",
     "output_type": "stream",
     "text": [
      "this is my vechile\n",
      "this is a Lamborgini brand\n",
      "this vechile is Lamborgini with a 95 kwh battery.\n"
     ]
    }
   ],
   "source": [
    "class Vehicle :\n",
    "    def __init__(self,vechile_type):\n",
    "        self.vechile_type = vechile_type\n",
    "\n",
    "    def vechile_name(self):\n",
    "        print(\"this is my\",self.vechile_type)\n",
    "\n",
    "class Car:\n",
    "    def __init__(self,vechile_type,brand):\n",
    "        super().__init__(vechile_type)\n",
    "        self.brand = brand\n",
    "\n",
    "    def car_name(self):\n",
    "        print(\"this is a\",self.brand, \"brand\")\n",
    "\n",
    "class ElectricCar(Car,Vehicle):\n",
    "    def __init__(self,vechile_type,brand,battery):\n",
    "        super().__init__(vechile_type,brand)\n",
    "        self.battery = battery\n",
    "\n",
    "    def elctric_car(self):\n",
    "        print(\"this\", self.vechile_type,\"is\" , self.brand, \"with a\", self.battery, \"kwh battery.\")\n",
    "\n",
    "cr = ElectricCar(\"vechile\",\"Lamborgini\",95 )\n",
    "cr.vechile_name()\n",
    "cr.car_name()\n",
    "cr.elctric_car()"
   ]
  },
  {
   "cell_type": "markdown",
   "id": "38c091a5-e7ab-4ccf-9058-6bc06255f4a5",
   "metadata": {},
   "source": [
    "Question-4 Implement a multi-level inheritance scenario where a class Vehicle has an attribute type. Derive a class Car\n",
    "and further derive a class ElectricCar that adds a battery attribute?"
   ]
  },
  {
   "cell_type": "code",
   "execution_count": 37,
   "id": "5d948795-d821-4137-b2a0-d4e54a247ad4",
   "metadata": {},
   "outputs": [
    {
     "name": "stdout",
     "output_type": "stream",
     "text": [
      "this vechile is Lamborgini with a 95 kwh battery.\n"
     ]
    }
   ],
   "source": [
    "class Vehicle_1 :\n",
    "    def __init__(self,vechile_2):\n",
    "        self.vechile_2 = vechile_2\n",
    "\n",
    "    def another_vechile(self):\n",
    "        print(\"this is my\", self.vechile_2)\n",
    "\n",
    "class Car_1(Vehicle_1):\n",
    "    def __init__(self,vechile_2,brand_name):\n",
    "        super().__init__(vechile_2)\n",
    "        self.brand_name = brand_name\n",
    "\n",
    "    def another_car(self):\n",
    "        print(\"this is my\",self.brand_name,\"brand\")\n",
    "\n",
    "class ElectricCar_1(Car_1):\n",
    "    def __init__(self,vechile_2,brand_name,battery_no):\n",
    "        super().__init__(vechile_2,brand_name)\n",
    "        self.battery_no = battery_no\n",
    "\n",
    "    def another_electric(self):\n",
    "        print(\"this\", self.vechile_2,\"is\" , self.brand_name, \"with a\", self.battery_no, \"kwh battery.\")\n",
    "\n",
    "cr1 = ElectricCar_1(\"vechile\",\"Lamborgini\",95 )\n",
    "cr1.another_electric()"
   ]
  },
  {
   "cell_type": "code",
   "execution_count": 38,
   "id": "ade68c82-a92e-4022-91fd-f46d87f795ae",
   "metadata": {},
   "outputs": [
    {
     "name": "stdout",
     "output_type": "stream",
     "text": [
      "this is my vechile\n"
     ]
    }
   ],
   "source": [
    "cr2 = Car_1(\"vechile\", \"tesla\")\n",
    "cr2.another_vechile()"
   ]
  },
  {
   "cell_type": "markdown",
   "id": "b494aa9d-96cd-49fd-893e-948b39a519e8",
   "metadata": {},
   "source": [
    " Question-5 Write a program to demonstrate encapsulation by creating a class BankAccount with private attributes balance and methods to deposit, withdraw, and check balance?\n",
    "\n",
    "\n"
   ]
  },
  {
   "cell_type": "code",
   "execution_count": 58,
   "id": "76d78274-8979-4dfe-bd2c-86e7344857e2",
   "metadata": {},
   "outputs": [],
   "source": [
    "class Bank:\n",
    "    balance = 1000\n",
    "    \n",
    "    def get_access(self):\n",
    "        self.__balance = self.balance\n",
    "        return self.balance\n",
    "    \n",
    "    def deposit(self, amount):\n",
    "        self.__balance = self.__balance + amount\n",
    "        return self.__balance\n",
    "\n",
    "    \n",
    "    def withraw(self, amount):\n",
    "        self.__balance = self.__balance - amount\n",
    "        return self.__balance\n",
    "\n"
   ]
  },
  {
   "cell_type": "code",
   "execution_count": 59,
   "id": "7f4a8762-b93a-46ab-81af-006c3c28ce73",
   "metadata": {},
   "outputs": [
    {
     "data": {
      "text/plain": [
       "1000"
      ]
     },
     "execution_count": 59,
     "metadata": {},
     "output_type": "execute_result"
    }
   ],
   "source": [
    "name1 = Bank()\n",
    "name1.get_access()"
   ]
  },
  {
   "cell_type": "code",
   "execution_count": 53,
   "id": "1ae460a6-9db6-4cce-b429-6dda126b2a87",
   "metadata": {},
   "outputs": [
    {
     "data": {
      "text/plain": [
       "1000"
      ]
     },
     "execution_count": 53,
     "metadata": {},
     "output_type": "execute_result"
    }
   ],
   "source": [
    "name1.balance"
   ]
  },
  {
   "cell_type": "code",
   "execution_count": 54,
   "id": "b996e5bd-10c3-493f-bba0-dd927995e99b",
   "metadata": {},
   "outputs": [
    {
     "data": {
      "text/plain": [
       "1200"
      ]
     },
     "execution_count": 54,
     "metadata": {},
     "output_type": "execute_result"
    }
   ],
   "source": [
    "name1.deposit(200)"
   ]
  },
  {
   "cell_type": "code",
   "execution_count": 55,
   "id": "a34fb9ca-126a-4608-94de-293e68c2ea4c",
   "metadata": {},
   "outputs": [
    {
     "data": {
      "text/plain": [
       "1180"
      ]
     },
     "execution_count": 55,
     "metadata": {},
     "output_type": "execute_result"
    }
   ],
   "source": [
    "name1.withraw(20)"
   ]
  },
  {
   "cell_type": "markdown",
   "id": "f89a298d-121c-4241-9dbe-4ef19a563a1d",
   "metadata": {},
   "source": [
    "Question-6 Demonstrate runtime polymorphism using a method play() in a base class Instrument. Derive classes Guitar and Piano that implement their own version of play()?"
   ]
  },
  {
   "cell_type": "code",
   "execution_count": 80,
   "id": "89d36ce4-b8f5-46de-ae7e-8dabcf5dc28e",
   "metadata": {},
   "outputs": [],
   "source": [
    "class Instrument:\n",
    "    def play(self):\n",
    "        print(\"Playing an instrument.\")\n",
    "\n",
    "class Guitar(Instrument):\n",
    "    def play(self):\n",
    "        print(\"Strumming the guitar strings.\")\n",
    "\n",
    "class Piano(Instrument):\n",
    "    def play(self):\n",
    "        print(\"Pressing the piano keys.\")\n",
    "\n",
    "def perform(instrument):\n",
    "    instrument.play() "
   ]
  },
  {
   "cell_type": "code",
   "execution_count": 81,
   "id": "b45f29f3-b7c8-457e-a507-7d6202553b64",
   "metadata": {},
   "outputs": [
    {
     "name": "stdout",
     "output_type": "stream",
     "text": [
      "Strumming the guitar strings.\n"
     ]
    }
   ],
   "source": [
    "perform(guitar)"
   ]
  },
  {
   "cell_type": "code",
   "execution_count": 82,
   "id": "5606ae8e-0129-4fae-99b3-a08464ca763c",
   "metadata": {},
   "outputs": [
    {
     "name": "stdout",
     "output_type": "stream",
     "text": [
      "Pressing the piano keys.\n"
     ]
    }
   ],
   "source": [
    "piano = Piano()\n",
    "perform(piano)\n"
   ]
  },
  {
   "cell_type": "markdown",
   "id": "d558a38f-b3ca-48d2-a81b-190aea142a62",
   "metadata": {},
   "source": [
    "Question-7 Create a class MathOperations with a class method add_numbers() to add two numbers and a static method subtract_numbers() to subtract two numbers?"
   ]
  },
  {
   "cell_type": "code",
   "execution_count": 91,
   "id": "75809a92-ca37-4175-a241-f9819ef532ac",
   "metadata": {},
   "outputs": [
    {
     "name": "stdout",
     "output_type": "stream",
     "text": [
      "52\n"
     ]
    }
   ],
   "source": [
    "class MathOperation:\n",
    "    @staticmethod\n",
    "    def add_numbers(x,y):\n",
    "        print(x+y)\n",
    "\n",
    "    @staticmethod\n",
    "    def subtract_numbers(x,y):\n",
    "        print (x-y)\n",
    "\n",
    "calcu = MathOperation\n",
    "calcu.add_numbers(30,22)"
   ]
  },
  {
   "cell_type": "code",
   "execution_count": 92,
   "id": "075f384c-bfb9-4779-9c03-2dff9d3f54ca",
   "metadata": {
    "scrolled": true
   },
   "outputs": [
    {
     "name": "stdout",
     "output_type": "stream",
     "text": [
      "26\n"
     ]
    }
   ],
   "source": [
    "calcu.subtract_numbers(49,23)"
   ]
  },
  {
   "cell_type": "markdown",
   "id": "5037431d-11c5-4403-ac71-6b571786110d",
   "metadata": {},
   "source": [
    "Question-8 Implement a class Person with a class method to count the total number of persons created?"
   ]
  },
  {
   "cell_type": "code",
   "execution_count": 126,
   "id": "4fa840a0-5dde-4d0c-a948-c3f22742b261",
   "metadata": {},
   "outputs": [],
   "source": [
    "class Person:\n",
    "    total_person = 0\n",
    "    def __init__(self,name):\n",
    "        self.name = name\n",
    "        Person.total_person += 1\n",
    "\n",
    "    @classmethod\n",
    "    def get_total_person(cls):\n",
    "        return cls.total_person\n",
    "        "
   ]
  },
  {
   "cell_type": "code",
   "execution_count": 127,
   "id": "70999c30-73f6-4960-86fb-824f403890aa",
   "metadata": {},
   "outputs": [
    {
     "data": {
      "text/plain": [
       "3"
      ]
     },
     "execution_count": 127,
     "metadata": {},
     "output_type": "execute_result"
    }
   ],
   "source": [
    "per = Person(\"abhi\")\n",
    "per1= Person(\"akashy\")\n",
    "per2= Person(\"tanya\")\n",
    "per.get_total_person()"
   ]
  },
  {
   "cell_type": "markdown",
   "id": "784215b3-d64c-49de-87e2-3b61ada2899e",
   "metadata": {},
   "source": [
    "Question-9 Write a class Fraction with attributes numerator and denominator. Override the str method to display the fraction as \"numerator/denominator\"?"
   ]
  },
  {
   "cell_type": "code",
   "execution_count": 136,
   "id": "e04ca34c-9a2b-46a8-965f-decaccebb0f6",
   "metadata": {},
   "outputs": [],
   "source": [
    "class Fraction:\n",
    "    def __init__(self, numerator, denominator):\n",
    "        if denominator == 0:\n",
    "            raise ValueError(\"Denominator cannot be zero.\")\n",
    "        self.numerator = numerator\n",
    "        self.denominator = denominator\n",
    "\n",
    "    def __str__(self):\n",
    "        return self.numerator/self.denominator\n",
    "fraction1 = Fraction(3, 4)\n",
    "fraction2 = Fraction(7,8)\n"
   ]
  },
  {
   "cell_type": "code",
   "execution_count": 137,
   "id": "c5869493-50a7-4a17-864b-19b61ba94a73",
   "metadata": {},
   "outputs": [
    {
     "data": {
      "text/plain": [
       "4"
      ]
     },
     "execution_count": 137,
     "metadata": {},
     "output_type": "execute_result"
    }
   ],
   "source": [
    "fraction1.denominator"
   ]
  },
  {
   "cell_type": "code",
   "execution_count": 138,
   "id": "a7e70d31-4236-46a0-9bcc-a05bac325e62",
   "metadata": {},
   "outputs": [
    {
     "data": {
      "text/plain": [
       "7"
      ]
     },
     "execution_count": 138,
     "metadata": {},
     "output_type": "execute_result"
    }
   ],
   "source": [
    "fraction2.numerator"
   ]
  },
  {
   "cell_type": "markdown",
   "id": "568aefd1-4587-4b4c-94bb-4d681a21867c",
   "metadata": {},
   "source": [
    "Question-10 Demonstrate operator overloading by creating a class Vector and overriding the add method to add two vectors?"
   ]
  },
  {
   "cell_type": "code",
   "execution_count": 74,
   "id": "54ab7961-718a-42fd-8d7e-d816aa3c022f",
   "metadata": {},
   "outputs": [],
   "source": [
    "class Vector:\n",
    "    def __init__(self,x,y):\n",
    "        self.x = x\n",
    "        self.y = y\n",
    "\n",
    "    def __add__(self,other):\n",
    "        return Vector (self.x + other.x , self.y + other.y)"
   ]
  },
  {
   "cell_type": "code",
   "execution_count": 142,
   "id": "233d24df-6e0e-492c-9583-a14cddb7c058",
   "metadata": {},
   "outputs": [
    {
     "name": "stdout",
     "output_type": "stream",
     "text": [
      "13 15\n"
     ]
    }
   ],
   "source": [
    "vec = Vector(6,6)\n",
    "vec2 = Vector(7,9)\n",
    "hehe = vec + vec2\n",
    "print(hehe.x,hehe.y)"
   ]
  },
  {
   "cell_type": "markdown",
   "id": "0f78933d-1d36-4b41-8597-c8c379562afc",
   "metadata": {},
   "source": [
    " Question-11 Create a class Person with attributes name and age. Add a method greet() that prints \"Hello, my name is {name} and I am {age} years old\"?"
   ]
  },
  {
   "cell_type": "code",
   "execution_count": 161,
   "id": "ed34743a-9e3b-4222-a9c1-f29cfc84312c",
   "metadata": {},
   "outputs": [],
   "source": [
    "class Person_2:\n",
    "    def __init__(self,name,age):\n",
    "        self.name = name\n",
    "        self.age = age\n",
    "\n",
    "    def greet(self):\n",
    "        print (f\"Hello, my name is {self.name} and I am {self.age} years old\")\n",
    "    "
   ]
  },
  {
   "cell_type": "code",
   "execution_count": 163,
   "id": "92f5ffd2-a254-427d-a372-f3d84396a423",
   "metadata": {},
   "outputs": [
    {
     "name": "stdout",
     "output_type": "stream",
     "text": [
      "Hello, my name is Abhi and I am 20 years old\n"
     ]
    }
   ],
   "source": [
    "greeting = Person_2(\"Abhi\",20)\n",
    "greeting.greet()"
   ]
  },
  {
   "cell_type": "markdown",
   "id": "b5a7965d-aa9f-4ff1-b053-eabacdacbfc5",
   "metadata": {},
   "source": [
    "Question-12 Implement a class Student with attributes name and grades. Create a method average_grade() to compute the average of the grades."
   ]
  },
  {
   "cell_type": "code",
   "execution_count": 190,
   "id": "2796c08f-3a7c-4582-b8a9-f3ce364b71a3",
   "metadata": {},
   "outputs": [],
   "source": [
    "class Student_no:\n",
    "    def __init__(self,name,grades):\n",
    "        self.name = name\n",
    "        self.grades = grades\n",
    "\n",
    "    def average_grade(self):\n",
    "        return sum(self.grades) / len(self.grades)\n",
    "        \n",
    "    def __str__(self):\n",
    "        return f\"my name is {self.name} and i got {self.grades}\""
   ]
  },
  {
   "cell_type": "code",
   "execution_count": 193,
   "id": "c93a7e7b-7cf1-42b8-8cba-2789d716bf51",
   "metadata": {},
   "outputs": [
    {
     "data": {
      "text/plain": [
       "35.0"
      ]
     },
     "execution_count": 193,
     "metadata": {},
     "output_type": "execute_result"
    }
   ],
   "source": [
    "make = Student_no(\"abhi\",[20,30,40,50])\n",
    "make.average_grade()"
   ]
  },
  {
   "cell_type": "code",
   "execution_count": 199,
   "id": "07b61b42-054a-4e21-ac73-223614884cd1",
   "metadata": {},
   "outputs": [
    {
     "name": "stdout",
     "output_type": "stream",
     "text": [
      "my name is abhi and i got [20, 30, 40, 50]\n",
      "Average grades is : 35.0\n"
     ]
    }
   ],
   "source": [
    "print(make)\n",
    "print(\"Average grades is :\",make.average_grade())"
   ]
  },
  {
   "cell_type": "markdown",
   "id": "7dbd5afc-9b5d-4eb6-b84d-4fcfabf83d16",
   "metadata": {},
   "source": [
    "Question-13 Create a class Rectangle with methods set_dimensions() to set the dimensions and area() to calculate the area?"
   ]
  },
  {
   "cell_type": "code",
   "execution_count": 233,
   "id": "d52f6952-b15d-41f5-9bc5-4de2942356b8",
   "metadata": {},
   "outputs": [],
   "source": [
    "class Rectangle:\n",
    "    def __init__(self,length,width):\n",
    "        self.length = length\n",
    "        self.width = width\n",
    "\n",
    "    def set_area(self):\n",
    "        self.length * self.width\n",
    "        print(\"area of rectangle\",self.length*self.width)\n",
    "\n",
    "    def set_dimensions(self):\n",
    "        2*( self.length + self.width) \n",
    "        print(\"Dimensions of rectangle\",2*(self.length + self.width))\n",
    "        "
   ]
  },
  {
   "cell_type": "code",
   "execution_count": 234,
   "id": "f4cc7598-229c-4a78-9f07-08cb56f362f2",
   "metadata": {},
   "outputs": [
    {
     "name": "stdout",
     "output_type": "stream",
     "text": [
      "area of rectangle 258\n"
     ]
    }
   ],
   "source": [
    "area = Rectangle(6,43)\n",
    "area.set_area()"
   ]
  },
  {
   "cell_type": "code",
   "execution_count": 235,
   "id": "77c1d64f-43da-4aa8-8ce3-2f096a835eca",
   "metadata": {},
   "outputs": [
    {
     "name": "stdout",
     "output_type": "stream",
     "text": [
      "Dimensions of rectangle 98\n"
     ]
    }
   ],
   "source": [
    "area.set_dimensions()"
   ]
  },
  {
   "cell_type": "markdown",
   "id": "40e16057-53aa-4818-8405-502fd41979c9",
   "metadata": {},
   "source": [
    "Question-14 Create a class Employee with a method calculate_salary() that computes the salary based on hours worked and hourly rate. Create a derived class Manager that adds a bonus to the salary?"
   ]
  },
  {
   "cell_type": "code",
   "execution_count": 16,
   "id": "0b055f99-0809-4447-a165-1eb64f7360d8",
   "metadata": {},
   "outputs": [],
   "source": [
    "class Employee:\n",
    "    def __init__(self, name, hours_worked, hourly_rate):\n",
    "        self.name = name\n",
    "        self.hours_worked = hours_worked\n",
    "        self.hourly_rate = hourly_rate\n",
    "\n",
    "    def calculate_salary(self):\n",
    "        return self.hours_worked * self.hourly_rate\n",
    "\n",
    "    def __str__(self):\n",
    "        return f\"Employee: {self.name}, Hours Worked: {self.hours_worked}, Hourly Rate: {self.hourly_rate}\"\n",
    "\n",
    "\n",
    "class Manager(Employee):\n",
    "    def __init__(self, name, hours_worked, hourly_rate, bonus):\n",
    "        super().__init__(name, hours_worked, hourly_rate)\n",
    "        self.bonus = bonus\n",
    "\n",
    "    def calculate_salary(self):\n",
    "        base_salary = super().calculate_salary()\n",
    "        return base_salary + self.bonus\n",
    "\n",
    "    def __str__(self):\n",
    "        return (f\"Manager: {self.name}, Hours Worked: {self.hours_worked}, \"\n",
    "                f\"Hourly Rate: {self.hourly_rate}, Bonus: {self.bonus}\")\n"
   ]
  },
  {
   "cell_type": "code",
   "execution_count": 24,
   "id": "7ade5649-889b-44c9-8e54-f5b4df2b0496",
   "metadata": {},
   "outputs": [
    {
     "name": "stdout",
     "output_type": "stream",
     "text": [
      "Employee: abhi, Hours Worked: 40, Hourly Rate: 50 2000\n"
     ]
    }
   ],
   "source": [
    "nn= Employee(\"abhi\",40,50)\n",
    "print(nn, nn.calculate_salary())"
   ]
  },
  {
   "cell_type": "code",
   "execution_count": 26,
   "id": "e17dfc38-3713-4cbf-950d-bce37b9ec57a",
   "metadata": {},
   "outputs": [
    {
     "name": "stdout",
     "output_type": "stream",
     "text": [
      "Manager: ABHI, Hours Worked: 40, Hourly Rate: 60, Bonus: 500 2900\n"
     ]
    }
   ],
   "source": [
    "manager = Manager(\"ABHI\",40,60,500)\n",
    "print(manager, manager.calculate_salary())"
   ]
  },
  {
   "cell_type": "markdown",
   "id": "7f2663e6-a605-4342-b8a8-ab3df0c62f69",
   "metadata": {},
   "source": [
    "Question-15 Create a class Product with attributes name, price, and quantity. Implement a method total_price() that calculates the total price of the product?"
   ]
  },
  {
   "cell_type": "code",
   "execution_count": 10,
   "id": "69555717-3e4a-4688-9ba8-3bf8e5977dd0",
   "metadata": {},
   "outputs": [],
   "source": [
    "class Product:\n",
    "    def __init__(self,name,quantity,price):\n",
    "        self.name = name\n",
    "        self.price = price\n",
    "        self.quantity = quantity\n",
    "\n",
    "    def product_name(self):\n",
    "        return self.quantity * self.price\n",
    "\n",
    "    def __str__(self):\n",
    "        return f\"hey,my name is {self.name} and i bought {self.quantity} quantites of these clothes ,the price is one of each is {self.price} ,tota; price is :\""
   ]
  },
  {
   "cell_type": "code",
   "execution_count": 12,
   "id": "681dd883-3800-44da-a610-cf7fd93ef0bf",
   "metadata": {},
   "outputs": [
    {
     "name": "stdout",
     "output_type": "stream",
     "text": [
      "hey,my name is Abhi and i bought 100 quantites of these clothes ,the price is one of each is 22 ,tota; price is : 2200\n"
     ]
    }
   ],
   "source": [
    "product = Product(\"Abhi\", 100 , 22)\n",
    "product.product_name()\n",
    "print(product,product.product_name())"
   ]
  },
  {
   "cell_type": "markdown",
   "id": "73b2fd51-9ea1-46ba-8a26-7e493f94f568",
   "metadata": {},
   "source": [
    "Question-16 Create a class Animal with an abstract method sound(). Create two derived classes Cow and Sheep that implement the sound() method?"
   ]
  },
  {
   "cell_type": "code",
   "execution_count": 20,
   "id": "424d6041-b4e9-42f8-8476-3768a7d18698",
   "metadata": {},
   "outputs": [
    {
     "data": {
      "text/plain": [
       "'sheep sound like, baa'"
      ]
     },
     "execution_count": 20,
     "metadata": {},
     "output_type": "execute_result"
    }
   ],
   "source": [
    "import abc\n",
    "class Animal:\n",
    "    @abc.abstractmethod\n",
    "    def sound(self):\n",
    "        return\n",
    "\n",
    "class Cow(Animal):\n",
    "    def sound(self):\n",
    "        return \"cow sound like, mooww\"\n",
    "\n",
    "class Sheep(Animal):\n",
    "    def sound(self):\n",
    "        return \"sheep sound like, baa\"\n",
    "\n",
    "anim = Sheep()\n",
    "anim.sound()"
   ]
  },
  {
   "cell_type": "code",
   "execution_count": 18,
   "id": "632b29da-26b7-43fb-8462-c29c60ee39c6",
   "metadata": {},
   "outputs": [
    {
     "data": {
      "text/plain": [
       "'cow sound like, mooww'"
      ]
     },
     "execution_count": 18,
     "metadata": {},
     "output_type": "execute_result"
    }
   ],
   "source": [
    "animal = Cow()\n",
    "animal.sound()\n"
   ]
  },
  {
   "cell_type": "markdown",
   "id": "8ca2add0-99d3-4d35-8be3-af0e885ed78a",
   "metadata": {},
   "source": [
    "Question-17 Create a class Book with attributes title, author, and year_published. Add a method get_book_info() that returns a formatted string with the book's details?"
   ]
  },
  {
   "cell_type": "code",
   "execution_count": 26,
   "id": "26b95c01-403c-4eb6-9fe6-e778c7c4ab3e",
   "metadata": {},
   "outputs": [],
   "source": [
    "class Book:\n",
    "    def __init__(self,title,author,year_published):\n",
    "        self.title = title\n",
    "        self.author = author\n",
    "        self.year_published = year_published\n",
    "\n",
    "    def get_book_info(self):\n",
    "        return f\"The title of this book is {self.title} and the author of this book is :{self.author}. It is published in : {self.year_published}\""
   ]
  },
  {
   "cell_type": "code",
   "execution_count": 27,
   "id": "e6657e61-697d-4e4a-aad3-32a5f54831e0",
   "metadata": {},
   "outputs": [
    {
     "data": {
      "text/plain": [
       "'The title of this book is Python for Data Analytic and the author of this book is :Wes Mckinney. It is published in : 2012'"
      ]
     },
     "execution_count": 27,
     "metadata": {},
     "output_type": "execute_result"
    }
   ],
   "source": [
    "book = Book(\"Python for Data Analytic\", \"Wes Mckinney\",2012)\n",
    "book.get_book_info()"
   ]
  },
  {
   "cell_type": "markdown",
   "id": "202ba2bd-21c5-47f5-b2b2-18aea4365194",
   "metadata": {},
   "source": [
    "Question-18 Create a class House with attributes address and price. Create a derived class Mansion that adds an attribute number_of_rooms?"
   ]
  },
  {
   "cell_type": "code",
   "execution_count": 72,
   "id": "27d0b5ec-9f5b-4b9d-aef4-ec3c2ab0f4db",
   "metadata": {},
   "outputs": [],
   "source": [
    "class House:\n",
    "    def __init__(self,address,price):\n",
    "        self.address = address\n",
    "        self.price = price\n",
    "\n",
    "    def house_info(self):\n",
    "        return f\" The address of this house is {self.address} and the max price of that house is :{self.price}\"\n",
    "\n",
    "class Mansion(House):\n",
    "    def __init__(self,address,price,number_of_rooms):\n",
    "        super().__init__(address, price)\n",
    "        self.number_of_rooms = number_of_rooms\n",
    "\n",
    "    def room_number(self):\n",
    "        return f\" The address of this mansion is {self.address} and the max price of that mansion is: {self.price}.There are {self.number_of_rooms} rooms in this mansion\"\n",
    "        "
   ]
  },
  {
   "cell_type": "code",
   "execution_count": 73,
   "id": "29659cfb-b8d9-448e-bbea-7462d197556f",
   "metadata": {},
   "outputs": [
    {
     "data": {
      "text/plain": [
       "' The address of this mansion is Villa no.895 and the max price of that mansion is: 10 crore.There are 45 rooms in this mansion'"
      ]
     },
     "execution_count": 73,
     "metadata": {},
     "output_type": "execute_result"
    }
   ],
   "source": [
    "man = Mansion(\"Villa no.895\",\"10 crore\", 45)\n",
    "man.room_number()"
   ]
  },
  {
   "cell_type": "code",
   "execution_count": null,
   "id": "2912d229-d750-45bf-a52d-a31161bcf25b",
   "metadata": {},
   "outputs": [],
   "source": []
  }
 ],
 "metadata": {
  "kernelspec": {
   "display_name": "Python 3 (ipykernel)",
   "language": "python",
   "name": "python3"
  },
  "language_info": {
   "codemirror_mode": {
    "name": "ipython",
    "version": 3
   },
   "file_extension": ".py",
   "mimetype": "text/x-python",
   "name": "python",
   "nbconvert_exporter": "python",
   "pygments_lexer": "ipython3",
   "version": "3.12.7"
  }
 },
 "nbformat": 4,
 "nbformat_minor": 5
}
